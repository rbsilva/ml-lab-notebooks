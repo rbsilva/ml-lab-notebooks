{
 "cells": [
  {
   "cell_type": "code",
   "execution_count": 1,
   "metadata": {
    "collapsed": false
   },
   "outputs": [
    {
     "name": "stdout",
     "output_type": "stream",
     "text": [
      "(0, array([-0.17580414], dtype=float32), array([ 0.70379657], dtype=float32))\n",
      "(20, array([ 0.00500412], dtype=float32), array([ 0.35631824], dtype=float32))\n",
      "(40, array([ 0.07632747], dtype=float32), array([ 0.31403425], dtype=float32))\n",
      "(60, array([ 0.09410091], dtype=float32), array([ 0.30349728], dtype=float32))\n",
      "(80, array([ 0.09852997], dtype=float32), array([ 0.30087152], dtype=float32))\n",
      "(100, array([ 0.09963366], dtype=float32), array([ 0.30021718], dtype=float32))\n",
      "(120, array([ 0.0999087], dtype=float32), array([ 0.30005413], dtype=float32))\n",
      "(140, array([ 0.09997726], dtype=float32), array([ 0.30001348], dtype=float32))\n",
      "(160, array([ 0.09999432], dtype=float32), array([ 0.30000338], dtype=float32))\n",
      "(180, array([ 0.09999859], dtype=float32), array([ 0.30000085], dtype=float32))\n",
      "(200, array([ 0.09999967], dtype=float32), array([ 0.30000022], dtype=float32))\n"
     ]
    }
   ],
   "source": [
    "import tensorflow as tf\n",
    "import numpy as np\n",
    "\n",
    "# Create 100 phony x, y data points in NumPy, y = x * 0.1 + 0.3\n",
    "x_data = np.random.rand(100).astype(np.float32)\n",
    "y_data = x_data * 0.1 + 0.3\n",
    "\n",
    "# Try to find values for W and b that compute y_data = W * x_data + b\n",
    "# (We know that W should be 0.1 and b 0.3, but TensorFlow will\n",
    "# figure that out for us.)\n",
    "W = tf.Variable(tf.random_uniform([1], -1.0, 1.0))\n",
    "b = tf.Variable(tf.zeros([1]))\n",
    "y = W * x_data + b\n",
    "\n",
    "# Minimize the mean squared errors.\n",
    "loss = tf.reduce_mean(tf.square(y - y_data))\n",
    "optimizer = tf.train.GradientDescentOptimizer(0.5)\n",
    "train = optimizer.minimize(loss)\n",
    "\n",
    "# Before starting, initialize the variables.  We will 'run' this first.\n",
    "init = tf.initialize_all_variables()\n",
    "\n",
    "# Launch the graph.\n",
    "sess = tf.Session()\n",
    "sess.run(init)\n",
    "\n",
    "# Fit the line.\n",
    "for step in range(201):\n",
    "    sess.run(train)\n",
    "    if step % 20 == 0:\n",
    "        print(step, sess.run(W), sess.run(b))"
   ]
  }
 ],
 "metadata": {
  "kernelspec": {
   "display_name": "Python 2",
   "language": "python",
   "name": "python2"
  },
  "language_info": {
   "codemirror_mode": {
    "name": "ipython",
    "version": 2
   },
   "file_extension": ".py",
   "mimetype": "text/x-python",
   "name": "python",
   "nbconvert_exporter": "python",
   "pygments_lexer": "ipython2",
   "version": "2.7.6"
  }
 },
 "nbformat": 4,
 "nbformat_minor": 1
}
