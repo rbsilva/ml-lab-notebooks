{
 "cells": [
  {
   "cell_type": "code",
   "execution_count": 2,
   "metadata": {
    "collapsed": false
   },
   "outputs": [
    {
     "name": "stdout",
     "output_type": "stream",
     "text": [
      "[[0 1]\n",
      " [1 1]\n",
      " [1 0]]\n",
      "[[0]\n",
      " [1]\n",
      " [0]]\n",
      "[[-0.33930236  0.34318573 -0.16939002]\n",
      " [ 0.79990303  0.4323406  -0.97973538]]\n",
      "[[ 0.74309326]\n",
      " [-0.16382076]\n",
      " [ 0.61389979]]\n",
      "[[ 0.0041921 ]\n",
      " [ 0.9946251 ]\n",
      " [ 0.00290009]]\n",
      "[[False]\n",
      " [ True]\n",
      " [False]]\n",
      "\n",
      "[[False]]\n",
      "\n",
      "[[False]]\n",
      "\n",
      "[[ True]]\n"
     ]
    }
   ],
   "source": [
    "import numpy as np\n",
    "\n",
    "def sigmoid(x):\n",
    "    return 1.0/(1.0 + np.exp(-x))\n",
    "\n",
    "X = np.array([ [0,1],[1,1],[1,0] ])\n",
    "y = np.array([[0,1,0]]).T\n",
    "\n",
    "print X\n",
    "print y\n",
    "\n",
    "syn0 = 2*np.random.random((2,3)) - 1\n",
    "syn1 = 2*np.random.random((3,1)) - 1\n",
    "\n",
    "print syn0\n",
    "print syn1\n",
    "\n",
    "for j in xrange(60000):\n",
    "    l1 = 1/(1+np.exp(-(np.dot(X,syn0))))\n",
    "    l2 = 1/(1+np.exp(-(np.dot(l1,syn1))))    \n",
    "    l2_delta = (y - l2)*(l2*(1-l2))\n",
    "    l1_delta = l2_delta.dot(syn1.T) * (l1 * (1-l1))\n",
    "    syn1 += l1.T.dot(l2_delta)\n",
    "    syn0 += X.T.dot(l1_delta)\n",
    "    \n",
    "print l2\n",
    "\n",
    "print l2 > 0.5\n",
    "\n",
    "T = np.array([[0,0]])\n",
    "l1 = 1/(1+np.exp(-(np.dot(T,syn0))))\n",
    "l2 = 1/(1+np.exp(-(np.dot(l1,syn1))))\n",
    "print\n",
    "print l2 > 0.5\n",
    "\n",
    "T = np.array([[1,0]])\n",
    "l1 = 1/(1+np.exp(-(np.dot(T,syn0))))\n",
    "l2 = 1/(1+np.exp(-(np.dot(l1,syn1))))\n",
    "print\n",
    "print l2 > 0.5\n",
    "\n",
    "T = np.array([[1,1]])\n",
    "l1 = 1/(1+np.exp(-(np.dot(T,syn0))))\n",
    "l2 = 1/(1+np.exp(-(np.dot(l1,syn1))))\n",
    "print\n",
    "print l2 > 0.5"
   ]
  }
 ],
 "metadata": {
  "kernelspec": {
   "display_name": "Python 2",
   "language": "python",
   "name": "python2"
  },
  "language_info": {
   "codemirror_mode": {
    "name": "ipython",
    "version": 2
   },
   "file_extension": ".py",
   "mimetype": "text/x-python",
   "name": "python",
   "nbconvert_exporter": "python",
   "pygments_lexer": "ipython2",
   "version": "2.7.6"
  }
 },
 "nbformat": 4,
 "nbformat_minor": 1
}
